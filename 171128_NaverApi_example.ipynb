{
 "cells": [
  {
   "cell_type": "code",
   "execution_count": 40,
   "metadata": {},
   "outputs": [
    {
     "name": "stdout",
     "output_type": "stream",
     "text": [
      "{\"startDate\":\"2017-01-01\",\"endDate\":\"2017-04-30\",\"timeUnit\":\"date\",\"results\":[{\"title\":\"카페\",\"keywords\":[\"맛집\",\"커피\"],\"data\":[{\"period\":\"2017-01-01\",\"ratio\":86.70172},{\"period\":\"2017-01-02\",\"ratio\":58.90308},{\"period\":\"2017-01-03\",\"ratio\":56.3486},{\"period\":\"2017-01-04\",\"ratio\":60.70623},{\"period\":\"2017-01-05\",\"ratio\":60.93162},{\"period\":\"2017-01-06\",\"ratio\":59.80466},{\"period\":\"2017-01-07\",\"ratio\":74.15477},{\"period\":\"2017-01-08\",\"ratio\":75.50714},{\"period\":\"2017-01-09\",\"ratio\":58.45229},{\"period\":\"2017-01-10\",\"ratio\":61.00676},{\"period\":\"2017-01-11\",\"ratio\":61.90834},{\"period\":\"2017-01-12\",\"ratio\":65.96543},{\"period\":\"2017-01-13\",\"ratio\":58.97821},{\"period\":\"2017-01-14\",\"ratio\":81.51765},{\"period\":\"2017-01-15\",\"ratio\":82.71976},{\"period\":\"2017-01-16\",\"ratio\":57.70097},{\"period\":\"2017-01-17\",\"ratio\":60.70623},{\"period\":\"2017-01-18\",\"ratio\":62.28399},{\"period\":\"2017-01-19\",\"ratio\":58.90308},{\"period\":\"2017-01-20\",\"ratio\":56.3486},{\"period\":\"2017-01-21\",\"ratio\":73.32832},{\"period\":\"2017-01-22\",\"ratio\":75.65739},{\"period\":\"2017-01-23\",\"ratio\":59.12847},{\"period\":\"2017-01-24\",\"ratio\":58.82794},{\"period\":\"2017-01-25\",\"ratio\":55.22163},{\"period\":\"2017-01-26\",\"ratio\":55.29676},{\"period\":\"2017-01-27\",\"ratio\":57.70097},{\"period\":\"2017-01-28\",\"ratio\":59.429},{\"period\":\"2017-01-29\",\"ratio\":70.02254},{\"period\":\"2017-01-30\",\"ratio\":74.45529},{\"period\":\"2017-01-31\",\"ratio\":54.39519},{\"period\":\"2017-02-01\",\"ratio\":56.27347},{\"period\":\"2017-02-02\",\"ratio\":58.37715},{\"period\":\"2017-02-03\",\"ratio\":65.8903},{\"period\":\"2017-02-04\",\"ratio\":78.13674},{\"period\":\"2017-02-05\",\"ratio\":80.01502},{\"period\":\"2017-02-06\",\"ratio\":59.429},{\"period\":\"2017-02-07\",\"ratio\":60.4057},{\"period\":\"2017-02-08\",\"ratio\":65.81517},{\"period\":\"2017-02-09\",\"ratio\":59.2036},{\"period\":\"2017-02-10\",\"ratio\":58.15176},{\"period\":\"2017-02-11\",\"ratio\":84.37265},{\"period\":\"2017-02-12\",\"ratio\":88.65514},{\"period\":\"2017-02-13\",\"ratio\":58.60255},{\"period\":\"2017-02-14\",\"ratio\":64.61307},{\"period\":\"2017-02-15\",\"ratio\":65.81517},{\"period\":\"2017-02-16\",\"ratio\":57.7761},{\"period\":\"2017-02-17\",\"ratio\":58.82794},{\"period\":\"2017-02-18\",\"ratio\":83.5462},{\"period\":\"2017-02-19\",\"ratio\":78.81292},{\"period\":\"2017-02-20\",\"ratio\":53.79413},{\"period\":\"2017-02-21\",\"ratio\":65.21412},{\"period\":\"2017-02-22\",\"ratio\":62.20886},{\"period\":\"2017-02-23\",\"ratio\":58.07663},{\"period\":\"2017-02-24\",\"ratio\":58.97821},{\"period\":\"2017-02-25\",\"ratio\":86.77685},{\"period\":\"2017-02-26\",\"ratio\":82.19383},{\"period\":\"2017-02-27\",\"ratio\":60.10518},{\"period\":\"2017-02-28\",\"ratio\":62.65965},{\"period\":\"2017-03-01\",\"ratio\":83.32081},{\"period\":\"2017-03-02\",\"ratio\":52.74229},{\"period\":\"2017-03-03\",\"ratio\":59.57926},{\"period\":\"2017-03-04\",\"ratio\":82.87002},{\"period\":\"2017-03-05\",\"ratio\":74.68069},{\"period\":\"2017-03-06\",\"ratio\":50.33808},{\"period\":\"2017-03-07\",\"ratio\":57.62584},{\"period\":\"2017-03-08\",\"ratio\":56.72426},{\"period\":\"2017-03-09\",\"ratio\":54.54545},{\"period\":\"2017-03-10\",\"ratio\":54.62058},{\"period\":\"2017-03-11\",\"ratio\":88.42975},{\"period\":\"2017-03-12\",\"ratio\":85.19909},{\"period\":\"2017-03-13\",\"ratio\":56.27347},{\"period\":\"2017-03-14\",\"ratio\":61.8332},{\"period\":\"2017-03-15\",\"ratio\":56.42374},{\"period\":\"2017-03-16\",\"ratio\":57.09992},{\"period\":\"2017-03-17\",\"ratio\":55.52216},{\"period\":\"2017-03-18\",\"ratio\":82.64462},{\"period\":\"2017-03-19\",\"ratio\":89.85725},{\"period\":\"2017-03-20\",\"ratio\":59.12847},{\"period\":\"2017-03-21\",\"ratio\":55.07137},{\"period\":\"2017-03-22\",\"ratio\":38.16679},{\"period\":\"2017-03-23\",\"ratio\":51.91585},{\"period\":\"2017-03-24\",\"ratio\":59.50413},{\"period\":\"2017-03-25\",\"ratio\":77.38542},{\"period\":\"2017-03-26\",\"ratio\":82.26897},{\"period\":\"2017-03-27\",\"ratio\":52.74229},{\"period\":\"2017-03-28\",\"ratio\":51.01427},{\"period\":\"2017-03-29\",\"ratio\":52.66716},{\"period\":\"2017-03-30\",\"ratio\":55.22163},{\"period\":\"2017-03-31\",\"ratio\":58.22689},{\"period\":\"2017-04-01\",\"ratio\":79.63936},{\"period\":\"2017-04-02\",\"ratio\":83.62133},{\"period\":\"2017-04-03\",\"ratio\":53.86927},{\"period\":\"2017-04-04\",\"ratio\":51.01427},{\"period\":\"2017-04-05\",\"ratio\":52.14124},{\"period\":\"2017-04-06\",\"ratio\":58.97821},{\"period\":\"2017-04-07\",\"ratio\":53.9444},{\"period\":\"2017-04-08\",\"ratio\":82.19383},{\"period\":\"2017-04-09\",\"ratio\":85.27423},{\"period\":\"2017-04-10\",\"ratio\":49.13598},{\"period\":\"2017-04-11\",\"ratio\":55.1465},{\"period\":\"2017-04-12\",\"ratio\":55.67242},{\"period\":\"2017-04-13\",\"ratio\":53.719},{\"period\":\"2017-04-14\",\"ratio\":59.57926},{\"period\":\"2017-04-15\",\"ratio\":80.54094},{\"period\":\"2017-04-16\",\"ratio\":79.56423},{\"period\":\"2017-04-17\",\"ratio\":51.0894},{\"period\":\"2017-04-18\",\"ratio\":58.60255},{\"period\":\"2017-04-19\",\"ratio\":58.07663},{\"period\":\"2017-04-20\",\"ratio\":53.19308},{\"period\":\"2017-04-21\",\"ratio\":56.42374},{\"period\":\"2017-04-22\",\"ratio\":89.33132},{\"period\":\"2017-04-23\",\"ratio\":86.55146},{\"period\":\"2017-04-24\",\"ratio\":51.84072},{\"period\":\"2017-04-25\",\"ratio\":60.78136},{\"period\":\"2017-04-26\",\"ratio\":59.05334},{\"period\":\"2017-04-27\",\"ratio\":61.23215},{\"period\":\"2017-04-28\",\"ratio\":55.44703},{\"period\":\"2017-04-29\",\"ratio\":83.99699},{\"period\":\"2017-04-30\",\"ratio\":100.0}]}]}\n"
     ]
    }
   ],
   "source": [
    "import os\n",
    "import sys\n",
    "import urllib.request\n",
    "client_id = \"kJmgAKiP09UQouqZE5wS\"\n",
    "client_secret = \"S86S9fmhp_\"\n",
    "url = \"https://openapi.naver.com/v1/datalab/search\";\n",
    "body = \"{\\\"startDate\\\":\\\"2017-01-01\\\",\\\n",
    "            \\\"endDate\\\":\\\"2017-04-30\\\", \\\n",
    "            \\\"timeUnit\\\":\\\"date\\\", \\\n",
    "            \\\"keywordGroups\\\":[{\\\"groupName\\\":\\\"카페\\\",\\\"keywords\\\":[\\\"맛집\\\",\\\"커피\\\"]}], \\\n",
    "             \\\"device\\\":\\\"mo\\\", \\\n",
    "            \\\"ages\\\":[\\\"3\\\",\\\"4\\\"],\\\n",
    "            \\\"gender\\\":\\\"f\\\"}\";\n",
    "\n",
    "#body2 = \"{\\\"startDate\\\":\\\"2017-01-01\\\",\\\"endDate\\\":\\\"2017-04-30\\\",\\\"timeUnit\\\":\\\"month\\\",\\\"keywordGroups\\\":[{\\\"groupName\\\":\\\"한글\\\",\\\"keywords\\\":[\\\"한글\\\",\\\"korean\\\"]},{\\\"groupName\\\":\\\"영어\\\",\\\"keywords\\\":[\\\"영어\\\",\\\"english\\\"]}],\\\"device\\\":\\\"pc\\\",\\\"ages\\\":[\\\"1\\\",\\\"2\\\"],\\\"gender\\\":\\\"f\\\"}\";\n",
    "\n",
    "\n",
    "request = urllib.request.Request(url)\n",
    "request.add_header(\"X-Naver-Client-Id\",client_id)\n",
    "request.add_header(\"X-Naver-Client-Secret\",client_secret)\n",
    "request.add_header(\"Content-Type\",\"application/json\")\n",
    "response = urllib.request.urlopen(request, data=body.encode(\"utf-8\"))\n",
    "rescode = response.getcode()\n",
    "\n",
    "if(rescode==200):\n",
    "    response_body = response.read()\n",
    "    print(response_body.decode('utf-8'))\n",
    "else:\n",
    "    print(\"Error Code:\" + rescode)"
   ]
  },
  {
   "cell_type": "code",
   "execution_count": null,
   "metadata": {
    "collapsed": true
   },
   "outputs": [],
   "source": []
  }
 ],
 "metadata": {
  "kernelspec": {
   "display_name": "Python 3",
   "language": "python",
   "name": "python3"
  },
  "language_info": {
   "codemirror_mode": {
    "name": "ipython",
    "version": 3
   },
   "file_extension": ".py",
   "mimetype": "text/x-python",
   "name": "python",
   "nbconvert_exporter": "python",
   "pygments_lexer": "ipython3",
   "version": "3.6.2"
  }
 },
 "nbformat": 4,
 "nbformat_minor": 2
}
